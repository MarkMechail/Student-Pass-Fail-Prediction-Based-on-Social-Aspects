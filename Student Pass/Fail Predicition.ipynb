{
  "nbformat": 4,
  "nbformat_minor": 0,
  "metadata": {
    "colab": {
      "provenance": [],
      "include_colab_link": true
    },
    "kernelspec": {
      "name": "python3",
      "display_name": "Python 3"
    },
    "language_info": {
      "name": "python"
    }
  },
  "cells": [
    {
      "cell_type": "markdown",
      "metadata": {
        "id": "view-in-github",
        "colab_type": "text"
      },
      "source": [
        "<a href=\"https://colab.research.google.com/github/MarkMechail/Student-Pass-Fail-Prediction-Based-on-Social-Aspects/blob/main/Student%20Pass/Fail%20Predicition.ipynb\" target=\"_parent\"><img src=\"https://colab.research.google.com/assets/colab-badge.svg\" alt=\"Open In Colab\"/></a>"
      ]
    },
    {
      "cell_type": "code",
      "execution_count": null,
      "metadata": {
        "id": "exQShymCBIRD"
      },
      "outputs": [],
      "source": [
        "import pandas as pd\n",
        "import numpy as np\n",
        "from keras.models import Sequential\n",
        "from keras.layers import Dense,Flatten,Dropout\n",
        "from keras.callbacks import EarlyStopping\n",
        "from sklearn.model_selection import train_test_split\n",
        "from sklearn.ensemble import RandomForestClassifier\n",
        "from sklearn.metrics import accuracy_score\n",
        "from sklearn.metrics import precision_score, recall_score, f1_score\n",
        "from sklearn.model_selection import GridSearchCV\n",
        "from sklearn.metrics import confusion_matrix\n",
        "import matplotlib.pyplot as plt\n",
        "import seaborn as sns"
      ]
    },
    {
      "cell_type": "markdown",
      "source": [
        "This dataset includes data about students, and its output is their final grade.\n",
        "\n",
        "---\n",
        "\n",
        "but we must remove G1 and G2 to be able to make a predicition on the final grade instead of it being a calculation."
      ],
      "metadata": {
        "id": "dLn_tN2JKBNk"
      }
    },
    {
      "cell_type": "code",
      "source": [
        "data = pd.read_csv('/content/student-mat1.csv')\n",
        "data.info()"
      ],
      "metadata": {
        "colab": {
          "base_uri": "https://localhost:8080/"
        },
        "id": "ZvZvEmNWIYJa",
        "outputId": "32b30cb2-a341-4d26-b54a-7ef53ca4a40a"
      },
      "execution_count": null,
      "outputs": [
        {
          "output_type": "stream",
          "name": "stdout",
          "text": [
            "<class 'pandas.core.frame.DataFrame'>\n",
            "RangeIndex: 395 entries, 0 to 394\n",
            "Data columns (total 33 columns):\n",
            " #   Column      Non-Null Count  Dtype \n",
            "---  ------      --------------  ----- \n",
            " 0   school      395 non-null    object\n",
            " 1   sex         395 non-null    object\n",
            " 2   age         395 non-null    int64 \n",
            " 3   address     395 non-null    object\n",
            " 4   famsize     395 non-null    object\n",
            " 5   Pstatus     395 non-null    object\n",
            " 6   Medu        395 non-null    int64 \n",
            " 7   Fedu        395 non-null    int64 \n",
            " 8   Mjob        395 non-null    object\n",
            " 9   Fjob        395 non-null    object\n",
            " 10  reason      395 non-null    object\n",
            " 11  guardian    395 non-null    object\n",
            " 12  traveltime  395 non-null    int64 \n",
            " 13  studytime   395 non-null    int64 \n",
            " 14  failures    395 non-null    int64 \n",
            " 15  schoolsup   395 non-null    object\n",
            " 16  famsup      395 non-null    object\n",
            " 17  paid        395 non-null    object\n",
            " 18  activities  395 non-null    object\n",
            " 19  nursery     395 non-null    object\n",
            " 20  higher      395 non-null    object\n",
            " 21  internet    395 non-null    object\n",
            " 22  romantic    395 non-null    object\n",
            " 23  famrel      395 non-null    int64 \n",
            " 24  freetime    395 non-null    int64 \n",
            " 25  goout       395 non-null    int64 \n",
            " 26  Dalc        395 non-null    int64 \n",
            " 27  Walc        395 non-null    int64 \n",
            " 28  health      395 non-null    int64 \n",
            " 29  absences    395 non-null    int64 \n",
            " 30  G1          395 non-null    int64 \n",
            " 31  G2          395 non-null    int64 \n",
            " 32  G3          395 non-null    int64 \n",
            "dtypes: int64(16), object(17)\n",
            "memory usage: 102.0+ KB\n"
          ]
        }
      ]
    },
    {
      "cell_type": "code",
      "source": [
        "data.head()"
      ],
      "metadata": {
        "colab": {
          "base_uri": "https://localhost:8080/",
          "height": 235
        },
        "id": "rnKWzpAuPVPM",
        "outputId": "1e0adccc-5e95-499b-90ba-b37b0e942519"
      },
      "execution_count": null,
      "outputs": [
        {
          "output_type": "execute_result",
          "data": {
            "text/plain": [
              "  school sex  age address famsize Pstatus  Medu  Fedu     Mjob      Fjob  ...  \\\n",
              "0     GP   F   18       U     GT3       A     4     4  at_home   teacher  ...   \n",
              "1     GP   F   17       U     GT3       T     1     1  at_home     other  ...   \n",
              "2     GP   F   15       U     LE3       T     1     1  at_home     other  ...   \n",
              "3     GP   F   15       U     GT3       T     4     2   health  services  ...   \n",
              "4     GP   F   16       U     GT3       T     3     3    other     other  ...   \n",
              "\n",
              "  famrel freetime  goout  Dalc  Walc health absences  G1  G2  G3  \n",
              "0      4        3      4     1     1      3        6   5   6   6  \n",
              "1      5        3      3     1     1      3        4   5   5   6  \n",
              "2      4        3      2     2     3      3       10   7   8  10  \n",
              "3      3        2      2     1     1      5        2  15  14  15  \n",
              "4      4        3      2     1     2      5        4   6  10  10  \n",
              "\n",
              "[5 rows x 33 columns]"
            ],
            "text/html": [
              "\n",
              "  <div id=\"df-5846a79b-f999-4148-a289-c03fd942db9e\" class=\"colab-df-container\">\n",
              "    <div>\n",
              "<style scoped>\n",
              "    .dataframe tbody tr th:only-of-type {\n",
              "        vertical-align: middle;\n",
              "    }\n",
              "\n",
              "    .dataframe tbody tr th {\n",
              "        vertical-align: top;\n",
              "    }\n",
              "\n",
              "    .dataframe thead th {\n",
              "        text-align: right;\n",
              "    }\n",
              "</style>\n",
              "<table border=\"1\" class=\"dataframe\">\n",
              "  <thead>\n",
              "    <tr style=\"text-align: right;\">\n",
              "      <th></th>\n",
              "      <th>school</th>\n",
              "      <th>sex</th>\n",
              "      <th>age</th>\n",
              "      <th>address</th>\n",
              "      <th>famsize</th>\n",
              "      <th>Pstatus</th>\n",
              "      <th>Medu</th>\n",
              "      <th>Fedu</th>\n",
              "      <th>Mjob</th>\n",
              "      <th>Fjob</th>\n",
              "      <th>...</th>\n",
              "      <th>famrel</th>\n",
              "      <th>freetime</th>\n",
              "      <th>goout</th>\n",
              "      <th>Dalc</th>\n",
              "      <th>Walc</th>\n",
              "      <th>health</th>\n",
              "      <th>absences</th>\n",
              "      <th>G1</th>\n",
              "      <th>G2</th>\n",
              "      <th>G3</th>\n",
              "    </tr>\n",
              "  </thead>\n",
              "  <tbody>\n",
              "    <tr>\n",
              "      <th>0</th>\n",
              "      <td>GP</td>\n",
              "      <td>F</td>\n",
              "      <td>18</td>\n",
              "      <td>U</td>\n",
              "      <td>GT3</td>\n",
              "      <td>A</td>\n",
              "      <td>4</td>\n",
              "      <td>4</td>\n",
              "      <td>at_home</td>\n",
              "      <td>teacher</td>\n",
              "      <td>...</td>\n",
              "      <td>4</td>\n",
              "      <td>3</td>\n",
              "      <td>4</td>\n",
              "      <td>1</td>\n",
              "      <td>1</td>\n",
              "      <td>3</td>\n",
              "      <td>6</td>\n",
              "      <td>5</td>\n",
              "      <td>6</td>\n",
              "      <td>6</td>\n",
              "    </tr>\n",
              "    <tr>\n",
              "      <th>1</th>\n",
              "      <td>GP</td>\n",
              "      <td>F</td>\n",
              "      <td>17</td>\n",
              "      <td>U</td>\n",
              "      <td>GT3</td>\n",
              "      <td>T</td>\n",
              "      <td>1</td>\n",
              "      <td>1</td>\n",
              "      <td>at_home</td>\n",
              "      <td>other</td>\n",
              "      <td>...</td>\n",
              "      <td>5</td>\n",
              "      <td>3</td>\n",
              "      <td>3</td>\n",
              "      <td>1</td>\n",
              "      <td>1</td>\n",
              "      <td>3</td>\n",
              "      <td>4</td>\n",
              "      <td>5</td>\n",
              "      <td>5</td>\n",
              "      <td>6</td>\n",
              "    </tr>\n",
              "    <tr>\n",
              "      <th>2</th>\n",
              "      <td>GP</td>\n",
              "      <td>F</td>\n",
              "      <td>15</td>\n",
              "      <td>U</td>\n",
              "      <td>LE3</td>\n",
              "      <td>T</td>\n",
              "      <td>1</td>\n",
              "      <td>1</td>\n",
              "      <td>at_home</td>\n",
              "      <td>other</td>\n",
              "      <td>...</td>\n",
              "      <td>4</td>\n",
              "      <td>3</td>\n",
              "      <td>2</td>\n",
              "      <td>2</td>\n",
              "      <td>3</td>\n",
              "      <td>3</td>\n",
              "      <td>10</td>\n",
              "      <td>7</td>\n",
              "      <td>8</td>\n",
              "      <td>10</td>\n",
              "    </tr>\n",
              "    <tr>\n",
              "      <th>3</th>\n",
              "      <td>GP</td>\n",
              "      <td>F</td>\n",
              "      <td>15</td>\n",
              "      <td>U</td>\n",
              "      <td>GT3</td>\n",
              "      <td>T</td>\n",
              "      <td>4</td>\n",
              "      <td>2</td>\n",
              "      <td>health</td>\n",
              "      <td>services</td>\n",
              "      <td>...</td>\n",
              "      <td>3</td>\n",
              "      <td>2</td>\n",
              "      <td>2</td>\n",
              "      <td>1</td>\n",
              "      <td>1</td>\n",
              "      <td>5</td>\n",
              "      <td>2</td>\n",
              "      <td>15</td>\n",
              "      <td>14</td>\n",
              "      <td>15</td>\n",
              "    </tr>\n",
              "    <tr>\n",
              "      <th>4</th>\n",
              "      <td>GP</td>\n",
              "      <td>F</td>\n",
              "      <td>16</td>\n",
              "      <td>U</td>\n",
              "      <td>GT3</td>\n",
              "      <td>T</td>\n",
              "      <td>3</td>\n",
              "      <td>3</td>\n",
              "      <td>other</td>\n",
              "      <td>other</td>\n",
              "      <td>...</td>\n",
              "      <td>4</td>\n",
              "      <td>3</td>\n",
              "      <td>2</td>\n",
              "      <td>1</td>\n",
              "      <td>2</td>\n",
              "      <td>5</td>\n",
              "      <td>4</td>\n",
              "      <td>6</td>\n",
              "      <td>10</td>\n",
              "      <td>10</td>\n",
              "    </tr>\n",
              "  </tbody>\n",
              "</table>\n",
              "<p>5 rows × 33 columns</p>\n",
              "</div>\n",
              "    <div class=\"colab-df-buttons\">\n",
              "\n",
              "  <div class=\"colab-df-container\">\n",
              "    <button class=\"colab-df-convert\" onclick=\"convertToInteractive('df-5846a79b-f999-4148-a289-c03fd942db9e')\"\n",
              "            title=\"Convert this dataframe to an interactive table.\"\n",
              "            style=\"display:none;\">\n",
              "\n",
              "  <svg xmlns=\"http://www.w3.org/2000/svg\" height=\"24px\" viewBox=\"0 -960 960 960\">\n",
              "    <path d=\"M120-120v-720h720v720H120Zm60-500h600v-160H180v160Zm220 220h160v-160H400v160Zm0 220h160v-160H400v160ZM180-400h160v-160H180v160Zm440 0h160v-160H620v160ZM180-180h160v-160H180v160Zm440 0h160v-160H620v160Z\"/>\n",
              "  </svg>\n",
              "    </button>\n",
              "\n",
              "  <style>\n",
              "    .colab-df-container {\n",
              "      display:flex;\n",
              "      gap: 12px;\n",
              "    }\n",
              "\n",
              "    .colab-df-convert {\n",
              "      background-color: #E8F0FE;\n",
              "      border: none;\n",
              "      border-radius: 50%;\n",
              "      cursor: pointer;\n",
              "      display: none;\n",
              "      fill: #1967D2;\n",
              "      height: 32px;\n",
              "      padding: 0 0 0 0;\n",
              "      width: 32px;\n",
              "    }\n",
              "\n",
              "    .colab-df-convert:hover {\n",
              "      background-color: #E2EBFA;\n",
              "      box-shadow: 0px 1px 2px rgba(60, 64, 67, 0.3), 0px 1px 3px 1px rgba(60, 64, 67, 0.15);\n",
              "      fill: #174EA6;\n",
              "    }\n",
              "\n",
              "    .colab-df-buttons div {\n",
              "      margin-bottom: 4px;\n",
              "    }\n",
              "\n",
              "    [theme=dark] .colab-df-convert {\n",
              "      background-color: #3B4455;\n",
              "      fill: #D2E3FC;\n",
              "    }\n",
              "\n",
              "    [theme=dark] .colab-df-convert:hover {\n",
              "      background-color: #434B5C;\n",
              "      box-shadow: 0px 1px 3px 1px rgba(0, 0, 0, 0.15);\n",
              "      filter: drop-shadow(0px 1px 2px rgba(0, 0, 0, 0.3));\n",
              "      fill: #FFFFFF;\n",
              "    }\n",
              "  </style>\n",
              "\n",
              "    <script>\n",
              "      const buttonEl =\n",
              "        document.querySelector('#df-5846a79b-f999-4148-a289-c03fd942db9e button.colab-df-convert');\n",
              "      buttonEl.style.display =\n",
              "        google.colab.kernel.accessAllowed ? 'block' : 'none';\n",
              "\n",
              "      async function convertToInteractive(key) {\n",
              "        const element = document.querySelector('#df-5846a79b-f999-4148-a289-c03fd942db9e');\n",
              "        const dataTable =\n",
              "          await google.colab.kernel.invokeFunction('convertToInteractive',\n",
              "                                                    [key], {});\n",
              "        if (!dataTable) return;\n",
              "\n",
              "        const docLinkHtml = 'Like what you see? Visit the ' +\n",
              "          '<a target=\"_blank\" href=https://colab.research.google.com/notebooks/data_table.ipynb>data table notebook</a>'\n",
              "          + ' to learn more about interactive tables.';\n",
              "        element.innerHTML = '';\n",
              "        dataTable['output_type'] = 'display_data';\n",
              "        await google.colab.output.renderOutput(dataTable, element);\n",
              "        const docLink = document.createElement('div');\n",
              "        docLink.innerHTML = docLinkHtml;\n",
              "        element.appendChild(docLink);\n",
              "      }\n",
              "    </script>\n",
              "  </div>\n",
              "\n",
              "\n",
              "<div id=\"df-6b8375c1-6979-405c-aa66-a4acc3d67f3c\">\n",
              "  <button class=\"colab-df-quickchart\" onclick=\"quickchart('df-6b8375c1-6979-405c-aa66-a4acc3d67f3c')\"\n",
              "            title=\"Suggest charts\"\n",
              "            style=\"display:none;\">\n",
              "\n",
              "<svg xmlns=\"http://www.w3.org/2000/svg\" height=\"24px\"viewBox=\"0 0 24 24\"\n",
              "     width=\"24px\">\n",
              "    <g>\n",
              "        <path d=\"M19 3H5c-1.1 0-2 .9-2 2v14c0 1.1.9 2 2 2h14c1.1 0 2-.9 2-2V5c0-1.1-.9-2-2-2zM9 17H7v-7h2v7zm4 0h-2V7h2v10zm4 0h-2v-4h2v4z\"/>\n",
              "    </g>\n",
              "</svg>\n",
              "  </button>\n",
              "\n",
              "<style>\n",
              "  .colab-df-quickchart {\n",
              "      --bg-color: #E8F0FE;\n",
              "      --fill-color: #1967D2;\n",
              "      --hover-bg-color: #E2EBFA;\n",
              "      --hover-fill-color: #174EA6;\n",
              "      --disabled-fill-color: #AAA;\n",
              "      --disabled-bg-color: #DDD;\n",
              "  }\n",
              "\n",
              "  [theme=dark] .colab-df-quickchart {\n",
              "      --bg-color: #3B4455;\n",
              "      --fill-color: #D2E3FC;\n",
              "      --hover-bg-color: #434B5C;\n",
              "      --hover-fill-color: #FFFFFF;\n",
              "      --disabled-bg-color: #3B4455;\n",
              "      --disabled-fill-color: #666;\n",
              "  }\n",
              "\n",
              "  .colab-df-quickchart {\n",
              "    background-color: var(--bg-color);\n",
              "    border: none;\n",
              "    border-radius: 50%;\n",
              "    cursor: pointer;\n",
              "    display: none;\n",
              "    fill: var(--fill-color);\n",
              "    height: 32px;\n",
              "    padding: 0;\n",
              "    width: 32px;\n",
              "  }\n",
              "\n",
              "  .colab-df-quickchart:hover {\n",
              "    background-color: var(--hover-bg-color);\n",
              "    box-shadow: 0 1px 2px rgba(60, 64, 67, 0.3), 0 1px 3px 1px rgba(60, 64, 67, 0.15);\n",
              "    fill: var(--button-hover-fill-color);\n",
              "  }\n",
              "\n",
              "  .colab-df-quickchart-complete:disabled,\n",
              "  .colab-df-quickchart-complete:disabled:hover {\n",
              "    background-color: var(--disabled-bg-color);\n",
              "    fill: var(--disabled-fill-color);\n",
              "    box-shadow: none;\n",
              "  }\n",
              "\n",
              "  .colab-df-spinner {\n",
              "    border: 2px solid var(--fill-color);\n",
              "    border-color: transparent;\n",
              "    border-bottom-color: var(--fill-color);\n",
              "    animation:\n",
              "      spin 1s steps(1) infinite;\n",
              "  }\n",
              "\n",
              "  @keyframes spin {\n",
              "    0% {\n",
              "      border-color: transparent;\n",
              "      border-bottom-color: var(--fill-color);\n",
              "      border-left-color: var(--fill-color);\n",
              "    }\n",
              "    20% {\n",
              "      border-color: transparent;\n",
              "      border-left-color: var(--fill-color);\n",
              "      border-top-color: var(--fill-color);\n",
              "    }\n",
              "    30% {\n",
              "      border-color: transparent;\n",
              "      border-left-color: var(--fill-color);\n",
              "      border-top-color: var(--fill-color);\n",
              "      border-right-color: var(--fill-color);\n",
              "    }\n",
              "    40% {\n",
              "      border-color: transparent;\n",
              "      border-right-color: var(--fill-color);\n",
              "      border-top-color: var(--fill-color);\n",
              "    }\n",
              "    60% {\n",
              "      border-color: transparent;\n",
              "      border-right-color: var(--fill-color);\n",
              "    }\n",
              "    80% {\n",
              "      border-color: transparent;\n",
              "      border-right-color: var(--fill-color);\n",
              "      border-bottom-color: var(--fill-color);\n",
              "    }\n",
              "    90% {\n",
              "      border-color: transparent;\n",
              "      border-bottom-color: var(--fill-color);\n",
              "    }\n",
              "  }\n",
              "</style>\n",
              "\n",
              "  <script>\n",
              "    async function quickchart(key) {\n",
              "      const quickchartButtonEl =\n",
              "        document.querySelector('#' + key + ' button');\n",
              "      quickchartButtonEl.disabled = true;  // To prevent multiple clicks.\n",
              "      quickchartButtonEl.classList.add('colab-df-spinner');\n",
              "      try {\n",
              "        const charts = await google.colab.kernel.invokeFunction(\n",
              "            'suggestCharts', [key], {});\n",
              "      } catch (error) {\n",
              "        console.error('Error during call to suggestCharts:', error);\n",
              "      }\n",
              "      quickchartButtonEl.classList.remove('colab-df-spinner');\n",
              "      quickchartButtonEl.classList.add('colab-df-quickchart-complete');\n",
              "    }\n",
              "    (() => {\n",
              "      let quickchartButtonEl =\n",
              "        document.querySelector('#df-6b8375c1-6979-405c-aa66-a4acc3d67f3c button');\n",
              "      quickchartButtonEl.style.display =\n",
              "        google.colab.kernel.accessAllowed ? 'block' : 'none';\n",
              "    })();\n",
              "  </script>\n",
              "</div>\n",
              "\n",
              "    </div>\n",
              "  </div>\n"
            ],
            "application/vnd.google.colaboratory.intrinsic+json": {
              "type": "dataframe",
              "variable_name": "data"
            }
          },
          "metadata": {},
          "execution_count": 3
        }
      ]
    },
    {
      "cell_type": "markdown",
      "source": [
        "**Data Preprocessing**"
      ],
      "metadata": {
        "id": "zu-SE9MIlYgm"
      }
    },
    {
      "cell_type": "code",
      "source": [
        "data = data.drop('G1', axis=1) #Dropping columns for First and Second semester grade since it wouldn't require prediction for the final grade if they existed\n",
        "data = data.drop('G2', axis=1)\n",
        "data['sex'].replace(['F','M'], [0,1], inplace=True)\n",
        "data['school'].replace(['GP','MS'], [0,1], inplace=True)\n",
        "data['address'].replace(['U','R'], [0,1], inplace=True)\n",
        "data['famsize'].replace(['LE3','GT3'], [0,1], inplace=True)\n",
        "data['Pstatus'].replace(['T','A'], [0,1], inplace=True)\n",
        "data['Mjob'].replace(['teacher','health','services','at_home', 'other'], [0,1,2,3,4], inplace=True)\n",
        "data['Fjob'].replace(['teacher','health','services','at_home', 'other'], [0,1,2,3,4], inplace=True)\n",
        "data['reason'].replace(['home','reputation','course','other'], [0,1,2,3], inplace=True)\n",
        "data['guardian'].replace(['mother','father','other'], [0,1,2], inplace=True)\n",
        "data.replace(['yes','no'], [1,0], inplace=True) #Converting all yes to 1 and all no to 0\n",
        "data.info()"
      ],
      "metadata": {
        "colab": {
          "base_uri": "https://localhost:8080/"
        },
        "id": "CcUKmIkUKZ6B",
        "outputId": "3fc24b61-250a-4be6-cd10-6fea4b911382"
      },
      "execution_count": null,
      "outputs": [
        {
          "output_type": "stream",
          "name": "stdout",
          "text": [
            "<class 'pandas.core.frame.DataFrame'>\n",
            "RangeIndex: 395 entries, 0 to 394\n",
            "Data columns (total 31 columns):\n",
            " #   Column      Non-Null Count  Dtype\n",
            "---  ------      --------------  -----\n",
            " 0   school      395 non-null    int64\n",
            " 1   sex         395 non-null    int64\n",
            " 2   age         395 non-null    int64\n",
            " 3   address     395 non-null    int64\n",
            " 4   famsize     395 non-null    int64\n",
            " 5   Pstatus     395 non-null    int64\n",
            " 6   Medu        395 non-null    int64\n",
            " 7   Fedu        395 non-null    int64\n",
            " 8   Mjob        395 non-null    int64\n",
            " 9   Fjob        395 non-null    int64\n",
            " 10  reason      395 non-null    int64\n",
            " 11  guardian    395 non-null    int64\n",
            " 12  traveltime  395 non-null    int64\n",
            " 13  studytime   395 non-null    int64\n",
            " 14  failures    395 non-null    int64\n",
            " 15  schoolsup   395 non-null    int64\n",
            " 16  famsup      395 non-null    int64\n",
            " 17  paid        395 non-null    int64\n",
            " 18  activities  395 non-null    int64\n",
            " 19  nursery     395 non-null    int64\n",
            " 20  higher      395 non-null    int64\n",
            " 21  internet    395 non-null    int64\n",
            " 22  romantic    395 non-null    int64\n",
            " 23  famrel      395 non-null    int64\n",
            " 24  freetime    395 non-null    int64\n",
            " 25  goout       395 non-null    int64\n",
            " 26  Dalc        395 non-null    int64\n",
            " 27  Walc        395 non-null    int64\n",
            " 28  health      395 non-null    int64\n",
            " 29  absences    395 non-null    int64\n",
            " 30  G3          395 non-null    int64\n",
            "dtypes: int64(31)\n",
            "memory usage: 95.8 KB\n"
          ]
        }
      ]
    },
    {
      "cell_type": "code",
      "source": [
        "data['G3'] = data['G3'].apply(lambda x: 0 if x < 10 else 1) #Changing the final grade to 0 if below success and 1 if above; therefore, making the data classifiable into two classes\n",
        "data.head()"
      ],
      "metadata": {
        "colab": {
          "base_uri": "https://localhost:8080/",
          "height": 235
        },
        "id": "9lV_hmiTVUZT",
        "outputId": "d02e6252-319a-4fef-edfe-0eaf58b1b937"
      },
      "execution_count": null,
      "outputs": [
        {
          "output_type": "execute_result",
          "data": {
            "text/plain": [
              "   school  sex  age  address  famsize  Pstatus  Medu  Fedu  Mjob  Fjob  ...  \\\n",
              "0       0    0   18        0        1        1     4     4     3     0  ...   \n",
              "1       0    0   17        0        1        0     1     1     3     4  ...   \n",
              "2       0    0   15        0        0        0     1     1     3     4  ...   \n",
              "3       0    0   15        0        1        0     4     2     1     2  ...   \n",
              "4       0    0   16        0        1        0     3     3     4     4  ...   \n",
              "\n",
              "   internet  romantic  famrel  freetime  goout  Dalc  Walc  health  absences  \\\n",
              "0         0         0       4         3      4     1     1       3         6   \n",
              "1         1         0       5         3      3     1     1       3         4   \n",
              "2         1         0       4         3      2     2     3       3        10   \n",
              "3         1         1       3         2      2     1     1       5         2   \n",
              "4         0         0       4         3      2     1     2       5         4   \n",
              "\n",
              "   G3  \n",
              "0   0  \n",
              "1   0  \n",
              "2   1  \n",
              "3   1  \n",
              "4   1  \n",
              "\n",
              "[5 rows x 31 columns]"
            ],
            "text/html": [
              "\n",
              "  <div id=\"df-017d60c1-b2c2-4992-b52f-9d198b6c272b\" class=\"colab-df-container\">\n",
              "    <div>\n",
              "<style scoped>\n",
              "    .dataframe tbody tr th:only-of-type {\n",
              "        vertical-align: middle;\n",
              "    }\n",
              "\n",
              "    .dataframe tbody tr th {\n",
              "        vertical-align: top;\n",
              "    }\n",
              "\n",
              "    .dataframe thead th {\n",
              "        text-align: right;\n",
              "    }\n",
              "</style>\n",
              "<table border=\"1\" class=\"dataframe\">\n",
              "  <thead>\n",
              "    <tr style=\"text-align: right;\">\n",
              "      <th></th>\n",
              "      <th>school</th>\n",
              "      <th>sex</th>\n",
              "      <th>age</th>\n",
              "      <th>address</th>\n",
              "      <th>famsize</th>\n",
              "      <th>Pstatus</th>\n",
              "      <th>Medu</th>\n",
              "      <th>Fedu</th>\n",
              "      <th>Mjob</th>\n",
              "      <th>Fjob</th>\n",
              "      <th>...</th>\n",
              "      <th>internet</th>\n",
              "      <th>romantic</th>\n",
              "      <th>famrel</th>\n",
              "      <th>freetime</th>\n",
              "      <th>goout</th>\n",
              "      <th>Dalc</th>\n",
              "      <th>Walc</th>\n",
              "      <th>health</th>\n",
              "      <th>absences</th>\n",
              "      <th>G3</th>\n",
              "    </tr>\n",
              "  </thead>\n",
              "  <tbody>\n",
              "    <tr>\n",
              "      <th>0</th>\n",
              "      <td>0</td>\n",
              "      <td>0</td>\n",
              "      <td>18</td>\n",
              "      <td>0</td>\n",
              "      <td>1</td>\n",
              "      <td>1</td>\n",
              "      <td>4</td>\n",
              "      <td>4</td>\n",
              "      <td>3</td>\n",
              "      <td>0</td>\n",
              "      <td>...</td>\n",
              "      <td>0</td>\n",
              "      <td>0</td>\n",
              "      <td>4</td>\n",
              "      <td>3</td>\n",
              "      <td>4</td>\n",
              "      <td>1</td>\n",
              "      <td>1</td>\n",
              "      <td>3</td>\n",
              "      <td>6</td>\n",
              "      <td>0</td>\n",
              "    </tr>\n",
              "    <tr>\n",
              "      <th>1</th>\n",
              "      <td>0</td>\n",
              "      <td>0</td>\n",
              "      <td>17</td>\n",
              "      <td>0</td>\n",
              "      <td>1</td>\n",
              "      <td>0</td>\n",
              "      <td>1</td>\n",
              "      <td>1</td>\n",
              "      <td>3</td>\n",
              "      <td>4</td>\n",
              "      <td>...</td>\n",
              "      <td>1</td>\n",
              "      <td>0</td>\n",
              "      <td>5</td>\n",
              "      <td>3</td>\n",
              "      <td>3</td>\n",
              "      <td>1</td>\n",
              "      <td>1</td>\n",
              "      <td>3</td>\n",
              "      <td>4</td>\n",
              "      <td>0</td>\n",
              "    </tr>\n",
              "    <tr>\n",
              "      <th>2</th>\n",
              "      <td>0</td>\n",
              "      <td>0</td>\n",
              "      <td>15</td>\n",
              "      <td>0</td>\n",
              "      <td>0</td>\n",
              "      <td>0</td>\n",
              "      <td>1</td>\n",
              "      <td>1</td>\n",
              "      <td>3</td>\n",
              "      <td>4</td>\n",
              "      <td>...</td>\n",
              "      <td>1</td>\n",
              "      <td>0</td>\n",
              "      <td>4</td>\n",
              "      <td>3</td>\n",
              "      <td>2</td>\n",
              "      <td>2</td>\n",
              "      <td>3</td>\n",
              "      <td>3</td>\n",
              "      <td>10</td>\n",
              "      <td>1</td>\n",
              "    </tr>\n",
              "    <tr>\n",
              "      <th>3</th>\n",
              "      <td>0</td>\n",
              "      <td>0</td>\n",
              "      <td>15</td>\n",
              "      <td>0</td>\n",
              "      <td>1</td>\n",
              "      <td>0</td>\n",
              "      <td>4</td>\n",
              "      <td>2</td>\n",
              "      <td>1</td>\n",
              "      <td>2</td>\n",
              "      <td>...</td>\n",
              "      <td>1</td>\n",
              "      <td>1</td>\n",
              "      <td>3</td>\n",
              "      <td>2</td>\n",
              "      <td>2</td>\n",
              "      <td>1</td>\n",
              "      <td>1</td>\n",
              "      <td>5</td>\n",
              "      <td>2</td>\n",
              "      <td>1</td>\n",
              "    </tr>\n",
              "    <tr>\n",
              "      <th>4</th>\n",
              "      <td>0</td>\n",
              "      <td>0</td>\n",
              "      <td>16</td>\n",
              "      <td>0</td>\n",
              "      <td>1</td>\n",
              "      <td>0</td>\n",
              "      <td>3</td>\n",
              "      <td>3</td>\n",
              "      <td>4</td>\n",
              "      <td>4</td>\n",
              "      <td>...</td>\n",
              "      <td>0</td>\n",
              "      <td>0</td>\n",
              "      <td>4</td>\n",
              "      <td>3</td>\n",
              "      <td>2</td>\n",
              "      <td>1</td>\n",
              "      <td>2</td>\n",
              "      <td>5</td>\n",
              "      <td>4</td>\n",
              "      <td>1</td>\n",
              "    </tr>\n",
              "  </tbody>\n",
              "</table>\n",
              "<p>5 rows × 31 columns</p>\n",
              "</div>\n",
              "    <div class=\"colab-df-buttons\">\n",
              "\n",
              "  <div class=\"colab-df-container\">\n",
              "    <button class=\"colab-df-convert\" onclick=\"convertToInteractive('df-017d60c1-b2c2-4992-b52f-9d198b6c272b')\"\n",
              "            title=\"Convert this dataframe to an interactive table.\"\n",
              "            style=\"display:none;\">\n",
              "\n",
              "  <svg xmlns=\"http://www.w3.org/2000/svg\" height=\"24px\" viewBox=\"0 -960 960 960\">\n",
              "    <path d=\"M120-120v-720h720v720H120Zm60-500h600v-160H180v160Zm220 220h160v-160H400v160Zm0 220h160v-160H400v160ZM180-400h160v-160H180v160Zm440 0h160v-160H620v160ZM180-180h160v-160H180v160Zm440 0h160v-160H620v160Z\"/>\n",
              "  </svg>\n",
              "    </button>\n",
              "\n",
              "  <style>\n",
              "    .colab-df-container {\n",
              "      display:flex;\n",
              "      gap: 12px;\n",
              "    }\n",
              "\n",
              "    .colab-df-convert {\n",
              "      background-color: #E8F0FE;\n",
              "      border: none;\n",
              "      border-radius: 50%;\n",
              "      cursor: pointer;\n",
              "      display: none;\n",
              "      fill: #1967D2;\n",
              "      height: 32px;\n",
              "      padding: 0 0 0 0;\n",
              "      width: 32px;\n",
              "    }\n",
              "\n",
              "    .colab-df-convert:hover {\n",
              "      background-color: #E2EBFA;\n",
              "      box-shadow: 0px 1px 2px rgba(60, 64, 67, 0.3), 0px 1px 3px 1px rgba(60, 64, 67, 0.15);\n",
              "      fill: #174EA6;\n",
              "    }\n",
              "\n",
              "    .colab-df-buttons div {\n",
              "      margin-bottom: 4px;\n",
              "    }\n",
              "\n",
              "    [theme=dark] .colab-df-convert {\n",
              "      background-color: #3B4455;\n",
              "      fill: #D2E3FC;\n",
              "    }\n",
              "\n",
              "    [theme=dark] .colab-df-convert:hover {\n",
              "      background-color: #434B5C;\n",
              "      box-shadow: 0px 1px 3px 1px rgba(0, 0, 0, 0.15);\n",
              "      filter: drop-shadow(0px 1px 2px rgba(0, 0, 0, 0.3));\n",
              "      fill: #FFFFFF;\n",
              "    }\n",
              "  </style>\n",
              "\n",
              "    <script>\n",
              "      const buttonEl =\n",
              "        document.querySelector('#df-017d60c1-b2c2-4992-b52f-9d198b6c272b button.colab-df-convert');\n",
              "      buttonEl.style.display =\n",
              "        google.colab.kernel.accessAllowed ? 'block' : 'none';\n",
              "\n",
              "      async function convertToInteractive(key) {\n",
              "        const element = document.querySelector('#df-017d60c1-b2c2-4992-b52f-9d198b6c272b');\n",
              "        const dataTable =\n",
              "          await google.colab.kernel.invokeFunction('convertToInteractive',\n",
              "                                                    [key], {});\n",
              "        if (!dataTable) return;\n",
              "\n",
              "        const docLinkHtml = 'Like what you see? Visit the ' +\n",
              "          '<a target=\"_blank\" href=https://colab.research.google.com/notebooks/data_table.ipynb>data table notebook</a>'\n",
              "          + ' to learn more about interactive tables.';\n",
              "        element.innerHTML = '';\n",
              "        dataTable['output_type'] = 'display_data';\n",
              "        await google.colab.output.renderOutput(dataTable, element);\n",
              "        const docLink = document.createElement('div');\n",
              "        docLink.innerHTML = docLinkHtml;\n",
              "        element.appendChild(docLink);\n",
              "      }\n",
              "    </script>\n",
              "  </div>\n",
              "\n",
              "\n",
              "<div id=\"df-f77d8856-db42-4661-a4cd-f7e52b64c1b1\">\n",
              "  <button class=\"colab-df-quickchart\" onclick=\"quickchart('df-f77d8856-db42-4661-a4cd-f7e52b64c1b1')\"\n",
              "            title=\"Suggest charts\"\n",
              "            style=\"display:none;\">\n",
              "\n",
              "<svg xmlns=\"http://www.w3.org/2000/svg\" height=\"24px\"viewBox=\"0 0 24 24\"\n",
              "     width=\"24px\">\n",
              "    <g>\n",
              "        <path d=\"M19 3H5c-1.1 0-2 .9-2 2v14c0 1.1.9 2 2 2h14c1.1 0 2-.9 2-2V5c0-1.1-.9-2-2-2zM9 17H7v-7h2v7zm4 0h-2V7h2v10zm4 0h-2v-4h2v4z\"/>\n",
              "    </g>\n",
              "</svg>\n",
              "  </button>\n",
              "\n",
              "<style>\n",
              "  .colab-df-quickchart {\n",
              "      --bg-color: #E8F0FE;\n",
              "      --fill-color: #1967D2;\n",
              "      --hover-bg-color: #E2EBFA;\n",
              "      --hover-fill-color: #174EA6;\n",
              "      --disabled-fill-color: #AAA;\n",
              "      --disabled-bg-color: #DDD;\n",
              "  }\n",
              "\n",
              "  [theme=dark] .colab-df-quickchart {\n",
              "      --bg-color: #3B4455;\n",
              "      --fill-color: #D2E3FC;\n",
              "      --hover-bg-color: #434B5C;\n",
              "      --hover-fill-color: #FFFFFF;\n",
              "      --disabled-bg-color: #3B4455;\n",
              "      --disabled-fill-color: #666;\n",
              "  }\n",
              "\n",
              "  .colab-df-quickchart {\n",
              "    background-color: var(--bg-color);\n",
              "    border: none;\n",
              "    border-radius: 50%;\n",
              "    cursor: pointer;\n",
              "    display: none;\n",
              "    fill: var(--fill-color);\n",
              "    height: 32px;\n",
              "    padding: 0;\n",
              "    width: 32px;\n",
              "  }\n",
              "\n",
              "  .colab-df-quickchart:hover {\n",
              "    background-color: var(--hover-bg-color);\n",
              "    box-shadow: 0 1px 2px rgba(60, 64, 67, 0.3), 0 1px 3px 1px rgba(60, 64, 67, 0.15);\n",
              "    fill: var(--button-hover-fill-color);\n",
              "  }\n",
              "\n",
              "  .colab-df-quickchart-complete:disabled,\n",
              "  .colab-df-quickchart-complete:disabled:hover {\n",
              "    background-color: var(--disabled-bg-color);\n",
              "    fill: var(--disabled-fill-color);\n",
              "    box-shadow: none;\n",
              "  }\n",
              "\n",
              "  .colab-df-spinner {\n",
              "    border: 2px solid var(--fill-color);\n",
              "    border-color: transparent;\n",
              "    border-bottom-color: var(--fill-color);\n",
              "    animation:\n",
              "      spin 1s steps(1) infinite;\n",
              "  }\n",
              "\n",
              "  @keyframes spin {\n",
              "    0% {\n",
              "      border-color: transparent;\n",
              "      border-bottom-color: var(--fill-color);\n",
              "      border-left-color: var(--fill-color);\n",
              "    }\n",
              "    20% {\n",
              "      border-color: transparent;\n",
              "      border-left-color: var(--fill-color);\n",
              "      border-top-color: var(--fill-color);\n",
              "    }\n",
              "    30% {\n",
              "      border-color: transparent;\n",
              "      border-left-color: var(--fill-color);\n",
              "      border-top-color: var(--fill-color);\n",
              "      border-right-color: var(--fill-color);\n",
              "    }\n",
              "    40% {\n",
              "      border-color: transparent;\n",
              "      border-right-color: var(--fill-color);\n",
              "      border-top-color: var(--fill-color);\n",
              "    }\n",
              "    60% {\n",
              "      border-color: transparent;\n",
              "      border-right-color: var(--fill-color);\n",
              "    }\n",
              "    80% {\n",
              "      border-color: transparent;\n",
              "      border-right-color: var(--fill-color);\n",
              "      border-bottom-color: var(--fill-color);\n",
              "    }\n",
              "    90% {\n",
              "      border-color: transparent;\n",
              "      border-bottom-color: var(--fill-color);\n",
              "    }\n",
              "  }\n",
              "</style>\n",
              "\n",
              "  <script>\n",
              "    async function quickchart(key) {\n",
              "      const quickchartButtonEl =\n",
              "        document.querySelector('#' + key + ' button');\n",
              "      quickchartButtonEl.disabled = true;  // To prevent multiple clicks.\n",
              "      quickchartButtonEl.classList.add('colab-df-spinner');\n",
              "      try {\n",
              "        const charts = await google.colab.kernel.invokeFunction(\n",
              "            'suggestCharts', [key], {});\n",
              "      } catch (error) {\n",
              "        console.error('Error during call to suggestCharts:', error);\n",
              "      }\n",
              "      quickchartButtonEl.classList.remove('colab-df-spinner');\n",
              "      quickchartButtonEl.classList.add('colab-df-quickchart-complete');\n",
              "    }\n",
              "    (() => {\n",
              "      let quickchartButtonEl =\n",
              "        document.querySelector('#df-f77d8856-db42-4661-a4cd-f7e52b64c1b1 button');\n",
              "      quickchartButtonEl.style.display =\n",
              "        google.colab.kernel.accessAllowed ? 'block' : 'none';\n",
              "    })();\n",
              "  </script>\n",
              "</div>\n",
              "\n",
              "    </div>\n",
              "  </div>\n"
            ],
            "application/vnd.google.colaboratory.intrinsic+json": {
              "type": "dataframe",
              "variable_name": "data"
            }
          },
          "metadata": {},
          "execution_count": 5
        }
      ]
    },
    {
      "cell_type": "code",
      "source": [
        "predictors = data.drop('G3', axis=1) #Splitting Data into predictors and outcome for convenience\n",
        "predictors.info()"
      ],
      "metadata": {
        "colab": {
          "base_uri": "https://localhost:8080/"
        },
        "id": "b1vT3TPSSq51",
        "outputId": "a8364cc6-a2bd-4cf2-f565-837beda10910"
      },
      "execution_count": null,
      "outputs": [
        {
          "output_type": "stream",
          "name": "stdout",
          "text": [
            "<class 'pandas.core.frame.DataFrame'>\n",
            "RangeIndex: 395 entries, 0 to 394\n",
            "Data columns (total 30 columns):\n",
            " #   Column      Non-Null Count  Dtype\n",
            "---  ------      --------------  -----\n",
            " 0   school      395 non-null    int64\n",
            " 1   sex         395 non-null    int64\n",
            " 2   age         395 non-null    int64\n",
            " 3   address     395 non-null    int64\n",
            " 4   famsize     395 non-null    int64\n",
            " 5   Pstatus     395 non-null    int64\n",
            " 6   Medu        395 non-null    int64\n",
            " 7   Fedu        395 non-null    int64\n",
            " 8   Mjob        395 non-null    int64\n",
            " 9   Fjob        395 non-null    int64\n",
            " 10  reason      395 non-null    int64\n",
            " 11  guardian    395 non-null    int64\n",
            " 12  traveltime  395 non-null    int64\n",
            " 13  studytime   395 non-null    int64\n",
            " 14  failures    395 non-null    int64\n",
            " 15  schoolsup   395 non-null    int64\n",
            " 16  famsup      395 non-null    int64\n",
            " 17  paid        395 non-null    int64\n",
            " 18  activities  395 non-null    int64\n",
            " 19  nursery     395 non-null    int64\n",
            " 20  higher      395 non-null    int64\n",
            " 21  internet    395 non-null    int64\n",
            " 22  romantic    395 non-null    int64\n",
            " 23  famrel      395 non-null    int64\n",
            " 24  freetime    395 non-null    int64\n",
            " 25  goout       395 non-null    int64\n",
            " 26  Dalc        395 non-null    int64\n",
            " 27  Walc        395 non-null    int64\n",
            " 28  health      395 non-null    int64\n",
            " 29  absences    395 non-null    int64\n",
            "dtypes: int64(30)\n",
            "memory usage: 92.7 KB\n"
          ]
        }
      ]
    },
    {
      "cell_type": "code",
      "source": [
        "outcome = data['G3']\n",
        "outcome.info()"
      ],
      "metadata": {
        "colab": {
          "base_uri": "https://localhost:8080/"
        },
        "id": "sxnSQvpOTrvb",
        "outputId": "0023af5e-7978-421b-e939-30308838fa5c"
      },
      "execution_count": null,
      "outputs": [
        {
          "output_type": "stream",
          "name": "stdout",
          "text": [
            "<class 'pandas.core.series.Series'>\n",
            "RangeIndex: 395 entries, 0 to 394\n",
            "Series name: G3\n",
            "Non-Null Count  Dtype\n",
            "--------------  -----\n",
            "395 non-null    int64\n",
            "dtypes: int64(1)\n",
            "memory usage: 3.2 KB\n"
          ]
        }
      ]
    },
    {
      "cell_type": "markdown",
      "source": [
        "**Splitting Data**"
      ],
      "metadata": {
        "id": "WUYTcOgqmBzk"
      }
    },
    {
      "cell_type": "code",
      "source": [
        "x_train,x_test,y_train,y_test = train_test_split(predictors, outcome, test_size = 0.2, random_state=0) #Performing train test split"
      ],
      "metadata": {
        "id": "aoXC3i4RWhAv"
      },
      "execution_count": null,
      "outputs": []
    },
    {
      "cell_type": "code",
      "source": [
        "x_train.shape #ensuring data was split correctly."
      ],
      "metadata": {
        "colab": {
          "base_uri": "https://localhost:8080/"
        },
        "id": "C0eiM6jiWsh6",
        "outputId": "76aefa1f-11df-4ece-f5a4-be73599d54fc"
      },
      "execution_count": null,
      "outputs": [
        {
          "output_type": "execute_result",
          "data": {
            "text/plain": [
              "(316, 30)"
            ]
          },
          "metadata": {},
          "execution_count": 9
        }
      ]
    },
    {
      "cell_type": "code",
      "source": [
        "x_test.shape"
      ],
      "metadata": {
        "colab": {
          "base_uri": "https://localhost:8080/"
        },
        "id": "gYcQrB86WuvK",
        "outputId": "058b137c-6d07-4da1-f95a-41d0e94435db"
      },
      "execution_count": null,
      "outputs": [
        {
          "output_type": "execute_result",
          "data": {
            "text/plain": [
              "(79, 30)"
            ]
          },
          "metadata": {},
          "execution_count": 10
        }
      ]
    },
    {
      "cell_type": "code",
      "source": [
        "y_train.shape"
      ],
      "metadata": {
        "colab": {
          "base_uri": "https://localhost:8080/"
        },
        "id": "KZDksAVJWu2C",
        "outputId": "71238572-28f1-4210-d142-e4de765194de"
      },
      "execution_count": null,
      "outputs": [
        {
          "output_type": "execute_result",
          "data": {
            "text/plain": [
              "(316,)"
            ]
          },
          "metadata": {},
          "execution_count": 11
        }
      ]
    },
    {
      "cell_type": "code",
      "source": [
        "y_test.shape"
      ],
      "metadata": {
        "colab": {
          "base_uri": "https://localhost:8080/"
        },
        "id": "WatFj_IsWu9O",
        "outputId": "f8eeb3b3-2dea-45c7-a00f-04e902454078"
      },
      "execution_count": null,
      "outputs": [
        {
          "output_type": "execute_result",
          "data": {
            "text/plain": [
              "(79,)"
            ]
          },
          "metadata": {},
          "execution_count": 12
        }
      ]
    },
    {
      "cell_type": "markdown",
      "source": [
        "**Building standard Random Forest Classifier**"
      ],
      "metadata": {
        "id": "o1nYQIK4mIt0"
      }
    },
    {
      "cell_type": "code",
      "source": [
        "model = RandomForestClassifier(n_estimators = 100)"
      ],
      "metadata": {
        "id": "GZsbx1u7W5UG"
      },
      "execution_count": null,
      "outputs": []
    },
    {
      "cell_type": "code",
      "source": [
        "model.fit(x_train,y_train)"
      ],
      "metadata": {
        "colab": {
          "base_uri": "https://localhost:8080/",
          "height": 75
        },
        "id": "3Y1O8fFGXrc0",
        "outputId": "16e147eb-23ce-4947-b139-419fe89df34f"
      },
      "execution_count": null,
      "outputs": [
        {
          "output_type": "execute_result",
          "data": {
            "text/plain": [
              "RandomForestClassifier()"
            ],
            "text/html": [
              "<style>#sk-container-id-3 {color: black;background-color: white;}#sk-container-id-3 pre{padding: 0;}#sk-container-id-3 div.sk-toggleable {background-color: white;}#sk-container-id-3 label.sk-toggleable__label {cursor: pointer;display: block;width: 100%;margin-bottom: 0;padding: 0.3em;box-sizing: border-box;text-align: center;}#sk-container-id-3 label.sk-toggleable__label-arrow:before {content: \"▸\";float: left;margin-right: 0.25em;color: #696969;}#sk-container-id-3 label.sk-toggleable__label-arrow:hover:before {color: black;}#sk-container-id-3 div.sk-estimator:hover label.sk-toggleable__label-arrow:before {color: black;}#sk-container-id-3 div.sk-toggleable__content {max-height: 0;max-width: 0;overflow: hidden;text-align: left;background-color: #f0f8ff;}#sk-container-id-3 div.sk-toggleable__content pre {margin: 0.2em;color: black;border-radius: 0.25em;background-color: #f0f8ff;}#sk-container-id-3 input.sk-toggleable__control:checked~div.sk-toggleable__content {max-height: 200px;max-width: 100%;overflow: auto;}#sk-container-id-3 input.sk-toggleable__control:checked~label.sk-toggleable__label-arrow:before {content: \"▾\";}#sk-container-id-3 div.sk-estimator input.sk-toggleable__control:checked~label.sk-toggleable__label {background-color: #d4ebff;}#sk-container-id-3 div.sk-label input.sk-toggleable__control:checked~label.sk-toggleable__label {background-color: #d4ebff;}#sk-container-id-3 input.sk-hidden--visually {border: 0;clip: rect(1px 1px 1px 1px);clip: rect(1px, 1px, 1px, 1px);height: 1px;margin: -1px;overflow: hidden;padding: 0;position: absolute;width: 1px;}#sk-container-id-3 div.sk-estimator {font-family: monospace;background-color: #f0f8ff;border: 1px dotted black;border-radius: 0.25em;box-sizing: border-box;margin-bottom: 0.5em;}#sk-container-id-3 div.sk-estimator:hover {background-color: #d4ebff;}#sk-container-id-3 div.sk-parallel-item::after {content: \"\";width: 100%;border-bottom: 1px solid gray;flex-grow: 1;}#sk-container-id-3 div.sk-label:hover label.sk-toggleable__label {background-color: #d4ebff;}#sk-container-id-3 div.sk-serial::before {content: \"\";position: absolute;border-left: 1px solid gray;box-sizing: border-box;top: 0;bottom: 0;left: 50%;z-index: 0;}#sk-container-id-3 div.sk-serial {display: flex;flex-direction: column;align-items: center;background-color: white;padding-right: 0.2em;padding-left: 0.2em;position: relative;}#sk-container-id-3 div.sk-item {position: relative;z-index: 1;}#sk-container-id-3 div.sk-parallel {display: flex;align-items: stretch;justify-content: center;background-color: white;position: relative;}#sk-container-id-3 div.sk-item::before, #sk-container-id-3 div.sk-parallel-item::before {content: \"\";position: absolute;border-left: 1px solid gray;box-sizing: border-box;top: 0;bottom: 0;left: 50%;z-index: -1;}#sk-container-id-3 div.sk-parallel-item {display: flex;flex-direction: column;z-index: 1;position: relative;background-color: white;}#sk-container-id-3 div.sk-parallel-item:first-child::after {align-self: flex-end;width: 50%;}#sk-container-id-3 div.sk-parallel-item:last-child::after {align-self: flex-start;width: 50%;}#sk-container-id-3 div.sk-parallel-item:only-child::after {width: 0;}#sk-container-id-3 div.sk-dashed-wrapped {border: 1px dashed gray;margin: 0 0.4em 0.5em 0.4em;box-sizing: border-box;padding-bottom: 0.4em;background-color: white;}#sk-container-id-3 div.sk-label label {font-family: monospace;font-weight: bold;display: inline-block;line-height: 1.2em;}#sk-container-id-3 div.sk-label-container {text-align: center;}#sk-container-id-3 div.sk-container {/* jupyter's `normalize.less` sets `[hidden] { display: none; }` but bootstrap.min.css set `[hidden] { display: none !important; }` so we also need the `!important` here to be able to override the default hidden behavior on the sphinx rendered scikit-learn.org. See: https://github.com/scikit-learn/scikit-learn/issues/21755 */display: inline-block !important;position: relative;}#sk-container-id-3 div.sk-text-repr-fallback {display: none;}</style><div id=\"sk-container-id-3\" class=\"sk-top-container\"><div class=\"sk-text-repr-fallback\"><pre>RandomForestClassifier()</pre><b>In a Jupyter environment, please rerun this cell to show the HTML representation or trust the notebook. <br />On GitHub, the HTML representation is unable to render, please try loading this page with nbviewer.org.</b></div><div class=\"sk-container\" hidden><div class=\"sk-item\"><div class=\"sk-estimator sk-toggleable\"><input class=\"sk-toggleable__control sk-hidden--visually\" id=\"sk-estimator-id-3\" type=\"checkbox\" checked><label for=\"sk-estimator-id-3\" class=\"sk-toggleable__label sk-toggleable__label-arrow\">RandomForestClassifier</label><div class=\"sk-toggleable__content\"><pre>RandomForestClassifier()</pre></div></div></div></div></div>"
            ]
          },
          "metadata": {},
          "execution_count": 18
        }
      ]
    },
    {
      "cell_type": "code",
      "source": [
        "def plot_confusion_matrix(y_true, y_pred):\n",
        "    cm = confusion_matrix(y_true, y_pred)\n",
        "    plt.figure(figsize=(8, 6))\n",
        "    sns.heatmap(cm, annot=True, fmt=\"d\", cmap=plt.cm.Blues,\n",
        "                xticklabels=['Fail', 'Succeed'],\n",
        "                yticklabels=['Fail', 'Succeed'])\n",
        "    plt.title(\"Confusion Matrix\")\n",
        "    plt.xlabel(\"Predicted Labels\")\n",
        "    plt.ylabel(\"True Labels\")\n",
        "    plt.show()"
      ],
      "metadata": {
        "id": "x4WeOfQri0PJ"
      },
      "execution_count": 57,
      "outputs": []
    },
    {
      "cell_type": "markdown",
      "source": [
        "**Evaluation and Confusion Matrix of standard Random Forest Classifier Model**"
      ],
      "metadata": {
        "id": "76oapoYUmQn6"
      }
    },
    {
      "cell_type": "code",
      "source": [
        "predicitions = model.predict(x_test)\n",
        "acc = accuracy_score(y_test,predicitions)\n",
        "precision = precision_score(y_test,predicitions)\n",
        "recall = recall_score(y_test,predicitions)\n",
        "f1 = f1_score(y_test,predicitions)\n",
        "print(f\"Accuracy: {acc}\\nPrecision: {precision}\\nRecall: {recall}\\nF1: {f1}\")"
      ],
      "metadata": {
        "colab": {
          "base_uri": "https://localhost:8080/"
        },
        "id": "iZTaicfUXwq3",
        "outputId": "2137c0da-5bbc-46cd-c8be-bdf5d96d8c44"
      },
      "execution_count": null,
      "outputs": [
        {
          "output_type": "stream",
          "name": "stdout",
          "text": [
            "Accuracy: 0.7088607594936709\n",
            "Precision: 0.6911764705882353\n",
            "Recall: 0.9591836734693877\n",
            "F1: 0.8034188034188035\n"
          ]
        }
      ]
    },
    {
      "cell_type": "code",
      "source": [
        "plot_confusion_matrix(y_test, predicitions)"
      ],
      "metadata": {
        "colab": {
          "base_uri": "https://localhost:8080/",
          "height": 564
        },
        "id": "q1lmW2MvirKz",
        "outputId": "25f7b94e-7c83-40f8-e70c-29deadfba9a3"
      },
      "execution_count": 60,
      "outputs": [
        {
          "output_type": "display_data",
          "data": {
            "text/plain": [
              "<Figure size 800x600 with 2 Axes>"
            ],
            "image/png": "[encoded data removed]"
          },
          "metadata": {}
        }
      ]
    },
    {
      "cell_type": "markdown",
      "source": [
        "**Finding best parameters (Hyper Parameters) using grid search**"
      ],
      "metadata": {
        "id": "N5MWkF9Smf49"
      }
    },
    {
      "cell_type": "code",
      "source": [
        "grid = {\n",
        "    'n_estimators': [100,150,200,300],\n",
        "    'max_depth': [None, 2, 4, 8],\n",
        "    'min_samples_leaf': [1,2,3,4],\n",
        "    'min_samples_split': [1,2,5,8]\n",
        "}\n",
        "modelH = RandomForestClassifier(random_state=20)\n",
        "gSearch = GridSearchCV(modelH, grid, cv=5, scoring='accuracy')\n",
        "gSearch.fit(x_train, y_train)\n",
        "bestParameters = gSearch.best_params_\n",
        "print(bestParameters)"
      ],
      "metadata": {
        "colab": {
          "base_uri": "https://localhost:8080/"
        },
        "id": "jTe64lJaYAZO",
        "outputId": "44bff112-129a-4499-a699-5a8a88e93021"
      },
      "execution_count": 61,
      "outputs": [
        {
          "output_type": "stream",
          "name": "stderr",
          "text": [
            "/usr/local/lib/python3.10/dist-packages/sklearn/model_selection/_validation.py:378: FitFailedWarning: \n",
            "320 fits failed out of a total of 1280.\n",
            "The score on these train-test partitions for these parameters will be set to nan.\n",
            "If these failures are not expected, you can try to debug them by setting error_score='raise'.\n",
            "\n",
            "Below are more details about the failures:\n",
            "--------------------------------------------------------------------------------\n",
            "320 fits failed with the following error:\n",
            "Traceback (most recent call last):\n",
            "  File \"/usr/local/lib/python3.10/dist-packages/sklearn/model_selection/_validation.py\", line 686, in _fit_and_score\n",
            "    estimator.fit(X_train, y_train, **fit_params)\n",
            "  File \"/usr/local/lib/python3.10/dist-packages/sklearn/ensemble/_forest.py\", line 340, in fit\n",
            "    self._validate_params()\n",
            "  File \"/usr/local/lib/python3.10/dist-packages/sklearn/base.py\", line 600, in _validate_params\n",
            "    validate_parameter_constraints(\n",
            "  File \"/usr/local/lib/python3.10/dist-packages/sklearn/utils/_param_validation.py\", line 97, in validate_parameter_constraints\n",
            "    raise InvalidParameterError(\n",
            "sklearn.utils._param_validation.InvalidParameterError: The 'min_samples_split' parameter of RandomForestClassifier must be an int in the range [2, inf) or a float in the range (0.0, 1.0]. Got 1 instead.\n",
            "\n",
            "  warnings.warn(some_fits_failed_message, FitFailedWarning)\n",
            "/usr/local/lib/python3.10/dist-packages/sklearn/model_selection/_search.py:952: UserWarning: One or more of the test scores are non-finite: [       nan        nan        nan        nan 0.70545635 0.70868056\n",
            " 0.70545635 0.70550595 0.71195437 0.70555556 0.70560516 0.70555556\n",
            " 0.72470238 0.71512897 0.72142857 0.70565476        nan        nan\n",
            "        nan        nan 0.70887897 0.70892857 0.70570437 0.69305556\n",
            " 0.71830357 0.72782738 0.71825397 0.70565476 0.71830357 0.70877976\n",
            " 0.71195437 0.70877976        nan        nan        nan        nan\n",
            " 0.72465278 0.70565476 0.70882937 0.70882937 0.72465278 0.70565476\n",
            " 0.70882937 0.70882937 0.70248016 0.70243056 0.70560516 0.70565476\n",
            "        nan        nan        nan        nan 0.69930556 0.70243056\n",
            " 0.69930556 0.69935516 0.69930556 0.70243056 0.69930556 0.69935516\n",
            " 0.69930556 0.70243056 0.69930556 0.69935516        nan        nan\n",
            "        nan        nan 0.68988095 0.69305556 0.69623016 0.69305556\n",
            " 0.68988095 0.69305556 0.69623016 0.69305556 0.68988095 0.69305556\n",
            " 0.69623016 0.69305556        nan        nan        nan        nan\n",
            " 0.69305556 0.69623016 0.69940476 0.69305556 0.69305556 0.69623016\n",
            " 0.69940476 0.69305556 0.69305556 0.69623016 0.69940476 0.69623016\n",
            "        nan        nan        nan        nan 0.69623016 0.69623016\n",
            " 0.69940476 0.69623016 0.69623016 0.69623016 0.69940476 0.69623016\n",
            " 0.69305556 0.69623016 0.69940476 0.69305556        nan        nan\n",
            "        nan        nan 0.69305556 0.69940476 0.69623016 0.69305556\n",
            " 0.69305556 0.69940476 0.69623016 0.69305556 0.69305556 0.69940476\n",
            " 0.69623016 0.69305556        nan        nan        nan        nan\n",
            " 0.68353175 0.68983135 0.69305556 0.68670635 0.71205357 0.69935516\n",
            " 0.69618056 0.69623016 0.70575397 0.70257937 0.69623016 0.69305556\n",
            "        nan        nan        nan        nan 0.70570437 0.70570437\n",
            " 0.69930556 0.70252976 0.70252976 0.69618056 0.69613095 0.69618056\n",
            " 0.71200397 0.69935516 0.69618056 0.69623016        nan        nan\n",
            "        nan        nan 0.70248016 0.68983135 0.70565476 0.70570437\n",
            " 0.70248016 0.68983135 0.70565476 0.70570437 0.70565476 0.70882937\n",
            " 0.69300595 0.69940476        nan        nan        nan        nan\n",
            " 0.69310516 0.69305556 0.69618056 0.69940476 0.69310516 0.69305556\n",
            " 0.69618056 0.69940476 0.69310516 0.69305556 0.69618056 0.69940476\n",
            "        nan        nan        nan        nan 0.70560516 0.70248016\n",
            " 0.69290675 0.68973214 0.70560516 0.71195437 0.71190476 0.70565476\n",
            " 0.70887897 0.71517857 0.70570437 0.70882937        nan        nan\n",
            "        nan        nan 0.68660714 0.68670635 0.68988095 0.69300595\n",
            " 0.71507937 0.70560516 0.70873016 0.71512897 0.70570437 0.71195437\n",
            " 0.71195437 0.70560516        nan        nan        nan        nan\n",
            " 0.70877976 0.70565476 0.69930556 0.70252976 0.70877976 0.70565476\n",
            " 0.69930556 0.70252976 0.70877976 0.70560516 0.70243056 0.70560516\n",
            "        nan        nan        nan        nan 0.70252976 0.69930556\n",
            " 0.69930556 0.69613095 0.70252976 0.69930556 0.69930556 0.69613095\n",
            " 0.70252976 0.69930556 0.69930556 0.69613095]\n",
            "  warnings.warn(\n"
          ]
        },
        {
          "output_type": "stream",
          "name": "stdout",
          "text": [
            "{'max_depth': None, 'min_samples_leaf': 2, 'min_samples_split': 5, 'n_estimators': 150}\n"
          ]
        }
      ]
    },
    {
      "cell_type": "markdown",
      "source": [
        "**Running Model using Hyperparameters, Evaluating and drawing Confusion Matrix**"
      ],
      "metadata": {
        "id": "NNIb_uGSmpm9"
      }
    },
    {
      "cell_type": "code",
      "source": [
        "bClassifier = gSearch.best_estimator_\n",
        "predicitions2 = bClassifier.predict(x_test)\n",
        "acc = accuracy_score(y_test,predicitions2)\n",
        "precision = precision_score(y_test,predicitions2)\n",
        "recall = recall_score(y_test,predicitions2)\n",
        "f1 = f1_score(y_test,predicitions2)\n",
        "print(f\"Accuracy: {acc}\\nPrecision: {precision}\\nRecall: {recall}\\nF1: {f1}\")"
      ],
      "metadata": {
        "colab": {
          "base_uri": "https://localhost:8080/"
        },
        "id": "xmL3P-sYjv_J",
        "outputId": "974390f9-4f0a-4322-de0d-cfb70c82bde4"
      },
      "execution_count": 64,
      "outputs": [
        {
          "output_type": "stream",
          "name": "stdout",
          "text": [
            "Accuracy: 0.6582278481012658\n",
            "Precision: 0.6617647058823529\n",
            "Recall: 0.9183673469387755\n",
            "F1: 0.7692307692307692\n"
          ]
        }
      ]
    },
    {
      "cell_type": "code",
      "source": [
        "plot_confusion_matrix(y_test, predicitions2)"
      ],
      "metadata": {
        "colab": {
          "base_uri": "https://localhost:8080/",
          "height": 564
        },
        "id": "QvttOA6jk-Wv",
        "outputId": "210ab032-8d83-4556-8a72-5b4be2b5d960"
      },
      "execution_count": 65,
      "outputs": [
        {
          "output_type": "display_data",
          "data": {
            "text/plain": [
              "<Figure size 800x600 with 2 Axes>"
            ],
            "image/png": "[encoded data removed]"
          },
          "metadata": {}
        }
      ]
    },
    {
      "cell_type": "markdown",
      "source": [
        "**Setting up deap library for Genetic Algorithm**"
      ],
      "metadata": {
        "id": "6ZAS_2urx_nj"
      }
    },
    {
      "cell_type": "code",
      "source": [
        "!pip install deap"
      ],
      "metadata": {
        "colab": {
          "base_uri": "https://localhost:8080/"
        },
        "id": "O2smYlfOtuZU",
        "outputId": "8934d8ae-a236-448f-ca15-aa3be25c0e0f"
      },
      "execution_count": null,
      "outputs": [
        {
          "output_type": "stream",
          "name": "stdout",
          "text": [
            "Collecting deap\n",
            "  Downloading deap-1.4.1-cp310-cp310-manylinux_2_5_x86_64.manylinux1_x86_64.manylinux_2_17_x86_64.manylinux2014_x86_64.whl (135 kB)\n",
            "\u001b[?25l     \u001b[90m━━━━━━━━━━━━━━━━━━━━━━━━━━━━━━━━━━━━━━━━\u001b[0m \u001b[32m0.0/135.4 kB\u001b[0m \u001b[31m?\u001b[0m eta \u001b[36m-:--:--\u001b[0m\r\u001b[2K     \u001b[91m━━━━━━━━━━━━━━━━━━━━━\u001b[0m\u001b[90m╺\u001b[0m\u001b[90m━━━━━━━━━━━━━━━━━━\u001b[0m \u001b[32m71.7/135.4 kB\u001b[0m \u001b[31m1.8 MB/s\u001b[0m eta \u001b[36m0:00:01\u001b[0m\r\u001b[2K     \u001b[90m━━━━━━━━━━━━━━━━━━━━━━━━━━━━━━━━━━━━━━━━\u001b[0m \u001b[32m135.4/135.4 kB\u001b[0m \u001b[31m2.5 MB/s\u001b[0m eta \u001b[36m0:00:00\u001b[0m\n",
            "\u001b[?25hRequirement already satisfied: numpy in /usr/local/lib/python3.10/dist-packages (from deap) (1.25.2)\n",
            "Installing collected packages: deap\n",
            "Successfully installed deap-1.4.1\n"
          ]
        }
      ]
    },
    {
      "cell_type": "markdown",
      "source": [
        "**Creating array with all features for convenience**"
      ],
      "metadata": {
        "id": "rW6PhznWyFz_"
      }
    },
    {
      "cell_type": "code",
      "source": [
        "print(predictors.head(0))\n",
        "allFeatures = ['school', 'sex', 'age', 'address', 'famsize', 'Pstatus', 'Medu', 'Fedu', 'Mjob', 'Fjob', 'reason', 'guardian', 'traveltime', 'studytime', 'failures', 'schoolsup', 'famsup', 'paid', 'activities', 'nursery', 'higher', 'internet', 'romantic', 'famrel', 'freetime', 'goout', 'Dalc', 'Walc', 'health', 'absences']\n",
        "len(allFeatures)"
      ],
      "metadata": {
        "colab": {
          "base_uri": "https://localhost:8080/"
        },
        "id": "g7IP4aRNRgi6",
        "outputId": "ea51f47e-1ffc-4608-dfba-fba29bb32741"
      },
      "execution_count": 67,
      "outputs": [
        {
          "output_type": "stream",
          "name": "stdout",
          "text": [
            "Empty DataFrame\n",
            "Columns: [school, sex, age, address, famsize, Pstatus, Medu, Fedu, Mjob, Fjob, reason, guardian, traveltime, studytime, failures, schoolsup, famsup, paid, activities, nursery, higher, internet, romantic, famrel, freetime, goout, Dalc, Walc, health, absences]\n",
            "Index: []\n",
            "\n",
            "[0 rows x 30 columns]\n"
          ]
        },
        {
          "output_type": "execute_result",
          "data": {
            "text/plain": [
              "30"
            ]
          },
          "metadata": {},
          "execution_count": 67
        }
      ]
    },
    {
      "cell_type": "markdown",
      "source": [
        "**Using Genetic Algorithm to select the best Features and creating fittness function using Random Forest Classifier**"
      ],
      "metadata": {
        "id": "w19gypueyOyF"
      }
    },
    {
      "cell_type": "code",
      "source": [
        "import random\n",
        "from deap import base, creator, tools, algorithms\n",
        "\n",
        "creator.create(\"FitnessMax\", base.Fitness, weights=(1.0,))\n",
        "creator.create(\"Individual\", list, fitness=creator.FitnessMax)\n",
        "\n",
        "# Define the fitness function\n",
        "def evaluate(individual):\n",
        "    # Create a mask from the individual\n",
        "    mask = np.array(individual, dtype=bool)\n",
        "    selected_features = [feature for feature, select in zip(allFeatures, mask) if select]\n",
        "\n",
        "    # Select the features from the training and test set\n",
        "    x_train_selected = x_train.loc[:, mask]\n",
        "    x_test_selected = x_test.loc[:, mask]\n",
        "\n",
        "    # Train a classifier\n",
        "    clf = RandomForestClassifier(n_estimators=100)\n",
        "    clf.fit(x_train_selected, y_train)\n",
        "\n",
        "    # Evaluate the classifier\n",
        "    y_pred = clf.predict(x_test_selected)\n",
        "    return accuracy_score(y_test, y_pred),\n",
        "\n",
        "# Define the genetic algorithm parameters\n",
        "n_gen = 100  # Number of generations\n",
        "pop_size = 20  # Population size\n",
        "n_features = len(allFeatures)  # Number of features\n",
        "toolbox = base.Toolbox()\n",
        "toolbox.register(\"attr_bool\", random.randint, 0, 1)\n",
        "toolbox.register(\"individual\", tools.initRepeat, creator.Individual, toolbox.attr_bool, n=n_features)\n",
        "toolbox.register(\"population\", tools.initRepeat, list, toolbox.individual)\n",
        "toolbox.register(\"evaluate\", evaluate)\n",
        "toolbox.register(\"mate\", tools.cxTwoPoint)\n",
        "toolbox.register(\"mutate\", tools.mutFlipBit, indpb=0.05)\n",
        "toolbox.register(\"select\", tools.selTournament, tournsize=3)\n",
        "\n",
        "# Create the population and run the genetic algorithm\n",
        "pop = toolbox.population(n=pop_size)\n",
        "hof = tools.HallOfFame(1)\n",
        "stats = tools.Statistics(lambda ind: ind.fitness.values)\n",
        "stats.register(\"avg\", np.mean)\n",
        "stats.register(\"min\", np.min)\n",
        "stats.register(\"max\", np.max)\n",
        "\n",
        "pop, log = algorithms.eaSimple(pop, toolbox, cxpb=0.5, mutpb=0.2, ngen=n_gen, stats=stats, halloffame=hof, verbose=True)\n",
        "\n",
        "# Get the best individual\n",
        "best_individual = hof[0]\n",
        "best_features = [feature for feature, select in zip(allFeatures, best_individual) if select]\n",
        "\n",
        "print(\"Best individual:\", best_individual)\n",
        "print(\"Best features:\", best_features)\n"
      ],
      "metadata": {
        "colab": {
          "base_uri": "https://localhost:8080/"
        },
        "id": "zHym7DaKm2rI",
        "outputId": "ae70ed95-e189-4741-fbd8-000bc3c8e80a"
      },
      "execution_count": 51,
      "outputs": [
        {
          "output_type": "stream",
          "name": "stdout",
          "text": [
            "gen\tnevals\tavg     \tmin    \tmax     \n",
            "0  \t20    \t0.641772\t0.56962\t0.734177\n",
            "1  \t11    \t0.675316\t0.620253\t0.734177\n",
            "2  \t9     \t0.689873\t0.594937\t0.721519\n",
            "3  \t7     \t0.702532\t0.632911\t0.721519\n",
            "4  \t14    \t0.701899\t0.594937\t0.734177\n",
            "5  \t8     \t0.711392\t0.683544\t0.734177\n",
            "6  \t15    \t0.70443 \t0.594937\t0.734177\n",
            "7  \t18    \t0.709494\t0.670886\t0.734177\n",
            "8  \t8     \t0.717089\t0.696203\t0.734177\n",
            "9  \t10    \t0.718354\t0.670886\t0.734177\n",
            "10 \t8     \t0.720886\t0.696203\t0.734177\n",
            "11 \t9     \t0.721519\t0.696203\t0.734177\n",
            "12 \t11    \t0.721519\t0.683544\t0.734177\n",
            "13 \t8     \t0.71962 \t0.64557 \t0.746835\n",
            "14 \t9     \t0.725949\t0.670886\t0.746835\n",
            "15 \t8     \t0.732911\t0.696203\t0.746835\n",
            "16 \t15    \t0.725949\t0.696203\t0.746835\n",
            "17 \t10    \t0.724684\t0.632911\t0.759494\n",
            "18 \t12    \t0.720253\t0.632911\t0.759494\n",
            "19 \t12    \t0.726582\t0.658228\t0.759494\n",
            "20 \t10    \t0.737342\t0.708861\t0.759494\n",
            "21 \t13    \t0.731013\t0.670886\t0.759494\n",
            "22 \t11    \t0.731646\t0.683544\t0.759494\n",
            "23 \t12    \t0.733544\t0.683544\t0.759494\n",
            "24 \t9     \t0.740506\t0.696203\t0.759494\n",
            "25 \t13    \t0.728481\t0.632911\t0.759494\n",
            "26 \t9     \t0.729747\t0.64557 \t0.759494\n",
            "27 \t18    \t0.718987\t0.64557 \t0.759494\n",
            "28 \t10    \t0.732911\t0.683544\t0.759494\n",
            "29 \t13    \t0.733544\t0.696203\t0.759494\n",
            "30 \t11    \t0.732911\t0.696203\t0.759494\n",
            "31 \t15    \t0.727848\t0.683544\t0.759494\n",
            "32 \t15    \t0.724051\t0.696203\t0.759494\n",
            "33 \t13    \t0.71962 \t0.64557 \t0.759494\n",
            "34 \t11    \t0.729114\t0.64557 \t0.759494\n",
            "35 \t15    \t0.725316\t0.683544\t0.759494\n",
            "36 \t13    \t0.728481\t0.683544\t0.746835\n",
            "37 \t10    \t0.729747\t0.708861\t0.746835\n",
            "38 \t14    \t0.729747\t0.670886\t0.759494\n",
            "39 \t14    \t0.729114\t0.683544\t0.759494\n",
            "40 \t13    \t0.729747\t0.64557 \t0.759494\n",
            "41 \t12    \t0.732278\t0.683544\t0.759494\n",
            "42 \t9     \t0.731013\t0.658228\t0.759494\n",
            "43 \t12    \t0.728481\t0.683544\t0.759494\n",
            "44 \t17    \t0.722785\t0.683544\t0.759494\n",
            "45 \t10    \t0.732911\t0.670886\t0.759494\n",
            "46 \t16    \t0.728481\t0.696203\t0.759494\n",
            "47 \t13    \t0.731013\t0.696203\t0.759494\n",
            "48 \t12    \t0.737975\t0.696203\t0.759494\n",
            "49 \t9     \t0.732278\t0.607595\t0.759494\n",
            "50 \t18    \t0.724051\t0.670886\t0.759494\n",
            "51 \t15    \t0.722785\t0.683544\t0.746835\n",
            "52 \t9     \t0.721519\t0.607595\t0.746835\n",
            "53 \t9     \t0.733544\t0.708861\t0.746835\n",
            "54 \t7     \t0.740506\t0.708861\t0.759494\n",
            "55 \t12    \t0.731646\t0.683544\t0.759494\n",
            "56 \t14    \t0.731646\t0.683544\t0.759494\n",
            "57 \t15    \t0.728481\t0.696203\t0.759494\n",
            "58 \t14    \t0.723418\t0.670886\t0.759494\n",
            "59 \t12    \t0.726582\t0.670886\t0.759494\n",
            "60 \t11    \t0.727215\t0.64557 \t0.759494\n",
            "61 \t11    \t0.73038 \t0.683544\t0.759494\n",
            "62 \t6     \t0.736076\t0.696203\t0.759494\n",
            "63 \t13    \t0.739873\t0.708861\t0.759494\n",
            "64 \t11    \t0.737342\t0.708861\t0.759494\n",
            "65 \t9     \t0.741772\t0.658228\t0.759494\n",
            "66 \t15    \t0.727215\t0.670886\t0.759494\n",
            "67 \t13    \t0.739241\t0.708861\t0.759494\n",
            "68 \t11    \t0.735443\t0.708861\t0.759494\n",
            "69 \t11    \t0.724684\t0.670886\t0.759494\n",
            "70 \t8     \t0.731646\t0.64557 \t0.759494\n",
            "71 \t10    \t0.737342\t0.708861\t0.759494\n",
            "72 \t13    \t0.727215\t0.658228\t0.759494\n",
            "73 \t13    \t0.729747\t0.620253\t0.746835\n",
            "74 \t10    \t0.737342\t0.696203\t0.746835\n",
            "75 \t11    \t0.734177\t0.696203\t0.746835\n",
            "76 \t10    \t0.734177\t0.683544\t0.746835\n",
            "77 \t10    \t0.731013\t0.696203\t0.746835\n",
            "78 \t13    \t0.732278\t0.696203\t0.759494\n",
            "79 \t11    \t0.724684\t0.607595\t0.759494\n",
            "80 \t15    \t0.721519\t0.670886\t0.746835\n",
            "81 \t13    \t0.722785\t0.670886\t0.746835\n",
            "82 \t8     \t0.732278\t0.620253\t0.746835\n",
            "83 \t14    \t0.723418\t0.670886\t0.746835\n",
            "84 \t12    \t0.729114\t0.696203\t0.746835\n",
            "85 \t19    \t0.709494\t0.658228\t0.746835\n",
            "86 \t11    \t0.728481\t0.683544\t0.746835\n",
            "87 \t11    \t0.727848\t0.64557 \t0.746835\n",
            "88 \t10    \t0.73481 \t0.708861\t0.746835\n",
            "89 \t11    \t0.732911\t0.696203\t0.759494\n",
            "90 \t13    \t0.718987\t0.620253\t0.746835\n",
            "91 \t10    \t0.73038 \t0.683544\t0.746835\n",
            "92 \t9     \t0.725949\t0.683544\t0.746835\n",
            "93 \t12    \t0.729747\t0.683544\t0.746835\n",
            "94 \t12    \t0.727215\t0.670886\t0.746835\n",
            "95 \t9     \t0.739241\t0.708861\t0.759494\n",
            "96 \t13    \t0.731646\t0.670886\t0.759494\n",
            "97 \t13    \t0.73038 \t0.683544\t0.759494\n",
            "98 \t9     \t0.737342\t0.696203\t0.759494\n",
            "99 \t10    \t0.737342\t0.696203\t0.759494\n",
            "100\t17    \t0.726582\t0.658228\t0.759494\n",
            "Best individual: [1, 1, 1, 1, 1, 0, 1, 1, 1, 0, 1, 0, 0, 0, 1, 1, 0, 1, 0, 0, 0, 0, 1, 0, 0, 0, 1, 1, 1, 0]\n",
            "Best features: ['school', 'sex', 'age', 'address', 'famsize', 'Medu', 'Fedu', 'Mjob', 'reason', 'failures', 'schoolsup', 'paid', 'romantic', 'Dalc', 'Walc', 'health']\n"
          ]
        }
      ]
    },
    {
      "cell_type": "markdown",
      "source": [
        "**Defining data after Feature Selection**"
      ],
      "metadata": {
        "id": "QtNJ71oCyx_9"
      }
    },
    {
      "cell_type": "code",
      "source": [
        "opt_x_train = x_train[best_features]\n",
        "opt_x_test = x_test[best_features]"
      ],
      "metadata": {
        "id": "h_rWppNDaFTV"
      },
      "execution_count": 52,
      "outputs": []
    },
    {
      "cell_type": "markdown",
      "source": [
        "**Training model on selected Features only**"
      ],
      "metadata": {
        "id": "qUeT6pghy3Kf"
      }
    },
    {
      "cell_type": "code",
      "source": [
        "optimizedModel = RandomForestClassifier(n_estimators=100)\n",
        "optimizedModel.fit(opt_x_train, y_train)"
      ],
      "metadata": {
        "colab": {
          "base_uri": "https://localhost:8080/",
          "height": 75
        },
        "id": "YDCkcj8GZoRj",
        "outputId": "64d08e8e-fc29-4c45-b7b1-d6409b4767b1"
      },
      "execution_count": 53,
      "outputs": [
        {
          "output_type": "execute_result",
          "data": {
            "text/plain": [
              "RandomForestClassifier()"
            ],
            "text/html": [
              "<style>#sk-container-id-6 {color: black;background-color: white;}#sk-container-id-6 pre{padding: 0;}#sk-container-id-6 div.sk-toggleable {background-color: white;}#sk-container-id-6 label.sk-toggleable__label {cursor: pointer;display: block;width: 100%;margin-bottom: 0;padding: 0.3em;box-sizing: border-box;text-align: center;}#sk-container-id-6 label.sk-toggleable__label-arrow:before {content: \"▸\";float: left;margin-right: 0.25em;color: #696969;}#sk-container-id-6 label.sk-toggleable__label-arrow:hover:before {color: black;}#sk-container-id-6 div.sk-estimator:hover label.sk-toggleable__label-arrow:before {color: black;}#sk-container-id-6 div.sk-toggleable__content {max-height: 0;max-width: 0;overflow: hidden;text-align: left;background-color: #f0f8ff;}#sk-container-id-6 div.sk-toggleable__content pre {margin: 0.2em;color: black;border-radius: 0.25em;background-color: #f0f8ff;}#sk-container-id-6 input.sk-toggleable__control:checked~div.sk-toggleable__content {max-height: 200px;max-width: 100%;overflow: auto;}#sk-container-id-6 input.sk-toggleable__control:checked~label.sk-toggleable__label-arrow:before {content: \"▾\";}#sk-container-id-6 div.sk-estimator input.sk-toggleable__control:checked~label.sk-toggleable__label {background-color: #d4ebff;}#sk-container-id-6 div.sk-label input.sk-toggleable__control:checked~label.sk-toggleable__label {background-color: #d4ebff;}#sk-container-id-6 input.sk-hidden--visually {border: 0;clip: rect(1px 1px 1px 1px);clip: rect(1px, 1px, 1px, 1px);height: 1px;margin: -1px;overflow: hidden;padding: 0;position: absolute;width: 1px;}#sk-container-id-6 div.sk-estimator {font-family: monospace;background-color: #f0f8ff;border: 1px dotted black;border-radius: 0.25em;box-sizing: border-box;margin-bottom: 0.5em;}#sk-container-id-6 div.sk-estimator:hover {background-color: #d4ebff;}#sk-container-id-6 div.sk-parallel-item::after {content: \"\";width: 100%;border-bottom: 1px solid gray;flex-grow: 1;}#sk-container-id-6 div.sk-label:hover label.sk-toggleable__label {background-color: #d4ebff;}#sk-container-id-6 div.sk-serial::before {content: \"\";position: absolute;border-left: 1px solid gray;box-sizing: border-box;top: 0;bottom: 0;left: 50%;z-index: 0;}#sk-container-id-6 div.sk-serial {display: flex;flex-direction: column;align-items: center;background-color: white;padding-right: 0.2em;padding-left: 0.2em;position: relative;}#sk-container-id-6 div.sk-item {position: relative;z-index: 1;}#sk-container-id-6 div.sk-parallel {display: flex;align-items: stretch;justify-content: center;background-color: white;position: relative;}#sk-container-id-6 div.sk-item::before, #sk-container-id-6 div.sk-parallel-item::before {content: \"\";position: absolute;border-left: 1px solid gray;box-sizing: border-box;top: 0;bottom: 0;left: 50%;z-index: -1;}#sk-container-id-6 div.sk-parallel-item {display: flex;flex-direction: column;z-index: 1;position: relative;background-color: white;}#sk-container-id-6 div.sk-parallel-item:first-child::after {align-self: flex-end;width: 50%;}#sk-container-id-6 div.sk-parallel-item:last-child::after {align-self: flex-start;width: 50%;}#sk-container-id-6 div.sk-parallel-item:only-child::after {width: 0;}#sk-container-id-6 div.sk-dashed-wrapped {border: 1px dashed gray;margin: 0 0.4em 0.5em 0.4em;box-sizing: border-box;padding-bottom: 0.4em;background-color: white;}#sk-container-id-6 div.sk-label label {font-family: monospace;font-weight: bold;display: inline-block;line-height: 1.2em;}#sk-container-id-6 div.sk-label-container {text-align: center;}#sk-container-id-6 div.sk-container {/* jupyter's `normalize.less` sets `[hidden] { display: none; }` but bootstrap.min.css set `[hidden] { display: none !important; }` so we also need the `!important` here to be able to override the default hidden behavior on the sphinx rendered scikit-learn.org. See: https://github.com/scikit-learn/scikit-learn/issues/21755 */display: inline-block !important;position: relative;}#sk-container-id-6 div.sk-text-repr-fallback {display: none;}</style><div id=\"sk-container-id-6\" class=\"sk-top-container\"><div class=\"sk-text-repr-fallback\"><pre>RandomForestClassifier()</pre><b>In a Jupyter environment, please rerun this cell to show the HTML representation or trust the notebook. <br />On GitHub, the HTML representation is unable to render, please try loading this page with nbviewer.org.</b></div><div class=\"sk-container\" hidden><div class=\"sk-item\"><div class=\"sk-estimator sk-toggleable\"><input class=\"sk-toggleable__control sk-hidden--visually\" id=\"sk-estimator-id-6\" type=\"checkbox\" checked><label for=\"sk-estimator-id-6\" class=\"sk-toggleable__label sk-toggleable__label-arrow\">RandomForestClassifier</label><div class=\"sk-toggleable__content\"><pre>RandomForestClassifier()</pre></div></div></div></div></div>"
            ]
          },
          "metadata": {},
          "execution_count": 53
        }
      ]
    },
    {
      "cell_type": "markdown",
      "source": [
        "**Evaluating Model and drawing Confusion Matrix**"
      ],
      "metadata": {
        "id": "Tv8UvuXuy6hb"
      }
    },
    {
      "cell_type": "code",
      "source": [
        "optPredicitions = optimizedModel.predict(opt_x_test)\n",
        "acc = accuracy_score(y_test,optPredicitions)\n",
        "precision = precision_score(y_test,optPredicitions)\n",
        "recall = recall_score(y_test,optPredicitions)\n",
        "f1 = f1_score(y_test,optPredicitions)\n",
        "print(f\"Accuracy: {acc}\\nPrecision: {precision}\\nRecall: {recall}\\nF1: {f1}\")"
      ],
      "metadata": {
        "colab": {
          "base_uri": "https://localhost:8080/"
        },
        "id": "CJRqb010Z-P5",
        "outputId": "0be9e3d2-e988-4a22-a1c7-c1c58e919a64"
      },
      "execution_count": 54,
      "outputs": [
        {
          "output_type": "stream",
          "name": "stdout",
          "text": [
            "Accuracy: 0.7341772151898734\n",
            "Precision: 0.7121212121212122\n",
            "Recall: 0.9591836734693877\n",
            "F1: 0.817391304347826\n"
          ]
        }
      ]
    },
    {
      "cell_type": "code",
      "source": [
        "plot_confusion_matrix(y_test, optPredicitions)"
      ],
      "metadata": {
        "colab": {
          "base_uri": "https://localhost:8080/",
          "height": 564
        },
        "id": "UnRWcAVHiGmI",
        "outputId": "d8bb9a54-7721-4990-a9e6-8285b944dac2"
      },
      "execution_count": 55,
      "outputs": [
        {
          "output_type": "display_data",
          "data": {
            "text/plain": [
              "<Figure size 800x600 with 2 Axes>"
            ],
            "image/png": "[encoded data removed]"
          },
          "metadata": {}
        }
      ]
    }
  ]
}